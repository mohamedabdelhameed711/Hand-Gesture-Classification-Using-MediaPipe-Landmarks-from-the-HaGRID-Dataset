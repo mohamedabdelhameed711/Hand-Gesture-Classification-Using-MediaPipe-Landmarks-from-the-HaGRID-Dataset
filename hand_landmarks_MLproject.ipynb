{
  "cells": [
    {
      "cell_type": "markdown",
      "metadata": {
        "id": "view-in-github",
        "colab_type": "text"
      },
      "source": [
        "<a href=\"https://colab.research.google.com/github/mohamedabdelhameed711/Hand-Gesture-Classification-Using-MediaPipe-Landmarks-from-the-HaGRID-Dataset/blob/main/hand_landmarks_MLproject.ipynb\" target=\"_parent\"><img src=\"https://colab.research.google.com/assets/colab-badge.svg\" alt=\"Open In Colab\"/></a>"
      ]
    },
    {
      "cell_type": "code",
      "execution_count": 42,
      "metadata": {
        "colab": {
          "base_uri": "https://localhost:8080/"
        },
        "id": "1CW5sLm1kr09",
        "outputId": "ea99a63d-a779-478b-dfaa-e4d907e53bf1"
      },
      "outputs": [
        {
          "output_type": "stream",
          "name": "stdout",
          "text": [
            "Requirement already satisfied: numpy in /usr/local/lib/python3.11/dist-packages (1.26.4)\n",
            "Requirement already satisfied: pandas in /usr/local/lib/python3.11/dist-packages (2.2.2)\n",
            "Requirement already satisfied: scikit-learn in /usr/local/lib/python3.11/dist-packages (1.6.1)\n",
            "Requirement already satisfied: matplotlib in /usr/local/lib/python3.11/dist-packages (3.10.0)\n",
            "Requirement already satisfied: seaborn in /usr/local/lib/python3.11/dist-packages (0.13.2)\n",
            "Requirement already satisfied: mediapipe in /usr/local/lib/python3.11/dist-packages (0.10.21)\n",
            "Requirement already satisfied: opencv-python in /usr/local/lib/python3.11/dist-packages (4.11.0.86)\n",
            "Requirement already satisfied: python-dateutil>=2.8.2 in /usr/local/lib/python3.11/dist-packages (from pandas) (2.8.2)\n",
            "Requirement already satisfied: pytz>=2020.1 in /usr/local/lib/python3.11/dist-packages (from pandas) (2025.1)\n",
            "Requirement already satisfied: tzdata>=2022.7 in /usr/local/lib/python3.11/dist-packages (from pandas) (2025.1)\n",
            "Requirement already satisfied: scipy>=1.6.0 in /usr/local/lib/python3.11/dist-packages (from scikit-learn) (1.13.1)\n",
            "Requirement already satisfied: joblib>=1.2.0 in /usr/local/lib/python3.11/dist-packages (from scikit-learn) (1.4.2)\n",
            "Requirement already satisfied: threadpoolctl>=3.1.0 in /usr/local/lib/python3.11/dist-packages (from scikit-learn) (3.5.0)\n",
            "Requirement already satisfied: contourpy>=1.0.1 in /usr/local/lib/python3.11/dist-packages (from matplotlib) (1.3.1)\n",
            "Requirement already satisfied: cycler>=0.10 in /usr/local/lib/python3.11/dist-packages (from matplotlib) (0.12.1)\n",
            "Requirement already satisfied: fonttools>=4.22.0 in /usr/local/lib/python3.11/dist-packages (from matplotlib) (4.56.0)\n",
            "Requirement already satisfied: kiwisolver>=1.3.1 in /usr/local/lib/python3.11/dist-packages (from matplotlib) (1.4.8)\n",
            "Requirement already satisfied: packaging>=20.0 in /usr/local/lib/python3.11/dist-packages (from matplotlib) (24.2)\n",
            "Requirement already satisfied: pillow>=8 in /usr/local/lib/python3.11/dist-packages (from matplotlib) (11.1.0)\n",
            "Requirement already satisfied: pyparsing>=2.3.1 in /usr/local/lib/python3.11/dist-packages (from matplotlib) (3.2.1)\n",
            "Requirement already satisfied: absl-py in /usr/local/lib/python3.11/dist-packages (from mediapipe) (1.4.0)\n",
            "Requirement already satisfied: attrs>=19.1.0 in /usr/local/lib/python3.11/dist-packages (from mediapipe) (25.1.0)\n",
            "Requirement already satisfied: flatbuffers>=2.0 in /usr/local/lib/python3.11/dist-packages (from mediapipe) (25.2.10)\n",
            "Requirement already satisfied: jax in /usr/local/lib/python3.11/dist-packages (from mediapipe) (0.4.33)\n",
            "Requirement already satisfied: jaxlib in /usr/local/lib/python3.11/dist-packages (from mediapipe) (0.4.33)\n",
            "Requirement already satisfied: opencv-contrib-python in /usr/local/lib/python3.11/dist-packages (from mediapipe) (4.11.0.86)\n",
            "Requirement already satisfied: protobuf<5,>=4.25.3 in /usr/local/lib/python3.11/dist-packages (from mediapipe) (4.25.6)\n",
            "Requirement already satisfied: sounddevice>=0.4.4 in /usr/local/lib/python3.11/dist-packages (from mediapipe) (0.5.1)\n",
            "Requirement already satisfied: sentencepiece in /usr/local/lib/python3.11/dist-packages (from mediapipe) (0.2.0)\n",
            "Requirement already satisfied: six>=1.5 in /usr/local/lib/python3.11/dist-packages (from python-dateutil>=2.8.2->pandas) (1.17.0)\n",
            "Requirement already satisfied: CFFI>=1.0 in /usr/local/lib/python3.11/dist-packages (from sounddevice>=0.4.4->mediapipe) (1.17.1)\n",
            "Requirement already satisfied: ml-dtypes>=0.2.0 in /usr/local/lib/python3.11/dist-packages (from jax->mediapipe) (0.4.1)\n",
            "Requirement already satisfied: opt-einsum in /usr/local/lib/python3.11/dist-packages (from jax->mediapipe) (3.4.0)\n",
            "Requirement already satisfied: pycparser in /usr/local/lib/python3.11/dist-packages (from CFFI>=1.0->sounddevice>=0.4.4->mediapipe) (2.22)\n"
          ]
        }
      ],
      "source": [
        "! pip install numpy pandas scikit-learn matplotlib seaborn mediapipe opencv-python"
      ]
    },
    {
      "cell_type": "code",
      "execution_count": 43,
      "metadata": {
        "id": "NwmiiBEFk7ey"
      },
      "outputs": [],
      "source": [
        "import pandas as pd\n",
        "import numpy as np\n",
        "import matplotlib.pyplot as plt\n",
        "import seaborn as sns\n",
        "from sklearn.model_selection import train_test_split\n",
        "from sklearn.preprocessing import StandardScaler\n",
        "from sklearn.ensemble import RandomForestClassifier\n",
        "from sklearn.svm import SVC\n",
        "from sklearn.neighbors import KNeighborsClassifier\n",
        "from sklearn.metrics import accuracy_score, precision_score, recall_score, f1_score, classification_report\n",
        "import mediapipe as mp\n",
        "import cv2\n",
        "from google.colab.patches import cv2_imshow"
      ]
    },
    {
      "cell_type": "code",
      "execution_count": 44,
      "metadata": {
        "id": "rwbLgyOklmye"
      },
      "outputs": [],
      "source": [
        "# Load Data\n",
        "def load_data(csv_path):\n",
        "    df = pd.read_csv(csv_path)\n",
        "    df = df.dropna()  # Handle missing values by dropping rows with NaNs\n",
        "    return df"
      ]
    },
    {
      "cell_type": "code",
      "execution_count": 45,
      "metadata": {
        "id": "q-B7fXDVLCuG"
      },
      "outputs": [],
      "source": [
        "data = load_data('/content/drive/MyDrive/Colab Notebooks/hand_landmarks_data.csv')"
      ]
    },
    {
      "cell_type": "code",
      "execution_count": 46,
      "metadata": {
        "colab": {
          "base_uri": "https://localhost:8080/",
          "height": 342
        },
        "id": "uiUJwAaolEJr",
        "outputId": "217c93cd-01a1-4747-ec36-9c1152f67d7e"
      },
      "outputs": [
        {
          "output_type": "execute_result",
          "data": {
            "text/plain": [
              "           x1          y1            z1          x2          y2        z2  \\\n",
              "0  262.669968  257.304901 -3.649205e-07  257.417542  247.109055  0.004224   \n",
              "1   83.351778  346.059113 -2.345265e-07   81.925037  328.562347 -0.011102   \n",
              "2  187.756977  260.235492 -2.417307e-07  195.460579  241.506035 -0.000184   \n",
              "3  114.976696  331.594238 -1.233261e-07  114.503494  320.549957 -0.002824   \n",
              "4  188.795288  141.727867 -1.622995e-07  188.520905  127.947464 -0.002884   \n",
              "\n",
              "           x3          y3        z3          x4  ...         x19         y19  \\\n",
              "0  246.882957  241.716827  0.005798  236.384537  ...  223.345093  255.490692   \n",
              "1   90.080132  311.535248 -0.021096   95.641823  ...  132.451618  341.794434   \n",
              "2  207.259529  223.674339 -0.009687  215.413628  ...  250.301010  268.602938   \n",
              "3  116.636627  310.080994 -0.008911  117.685066  ...  145.195450  329.357544   \n",
              "4  191.982880  111.010563 -0.008115  192.552521  ...  226.696396  132.263248   \n",
              "\n",
              "        z19         x20         y20       z20         x21         y21  \\\n",
              "0 -0.020450  215.043365  258.114746 -0.024577  208.006393  259.608673   \n",
              "1 -0.038175  142.773582  342.829254 -0.037336  152.431698  343.015991   \n",
              "2 -0.044068  262.425133  271.276638 -0.040469  272.989952  272.272231   \n",
              "3 -0.027622  151.053200  329.712341 -0.027863  155.990364  329.548828   \n",
              "4 -0.025113  234.831741  130.684147 -0.024087  241.587769  128.477188   \n",
              "\n",
              "        z21  label  \n",
              "0 -0.026722   call  \n",
              "1 -0.036136   call  \n",
              "2 -0.038301   call  \n",
              "3 -0.027723   call  \n",
              "4 -0.023486   call  \n",
              "\n",
              "[5 rows x 64 columns]"
            ],
            "text/html": [
              "\n",
              "  <div id=\"df-e233ed35-9ecc-4c48-97e1-e0a337635bc2\" class=\"colab-df-container\">\n",
              "    <div>\n",
              "<style scoped>\n",
              "    .dataframe tbody tr th:only-of-type {\n",
              "        vertical-align: middle;\n",
              "    }\n",
              "\n",
              "    .dataframe tbody tr th {\n",
              "        vertical-align: top;\n",
              "    }\n",
              "\n",
              "    .dataframe thead th {\n",
              "        text-align: right;\n",
              "    }\n",
              "</style>\n",
              "<table border=\"1\" class=\"dataframe\">\n",
              "  <thead>\n",
              "    <tr style=\"text-align: right;\">\n",
              "      <th></th>\n",
              "      <th>x1</th>\n",
              "      <th>y1</th>\n",
              "      <th>z1</th>\n",
              "      <th>x2</th>\n",
              "      <th>y2</th>\n",
              "      <th>z2</th>\n",
              "      <th>x3</th>\n",
              "      <th>y3</th>\n",
              "      <th>z3</th>\n",
              "      <th>x4</th>\n",
              "      <th>...</th>\n",
              "      <th>x19</th>\n",
              "      <th>y19</th>\n",
              "      <th>z19</th>\n",
              "      <th>x20</th>\n",
              "      <th>y20</th>\n",
              "      <th>z20</th>\n",
              "      <th>x21</th>\n",
              "      <th>y21</th>\n",
              "      <th>z21</th>\n",
              "      <th>label</th>\n",
              "    </tr>\n",
              "  </thead>\n",
              "  <tbody>\n",
              "    <tr>\n",
              "      <th>0</th>\n",
              "      <td>262.669968</td>\n",
              "      <td>257.304901</td>\n",
              "      <td>-3.649205e-07</td>\n",
              "      <td>257.417542</td>\n",
              "      <td>247.109055</td>\n",
              "      <td>0.004224</td>\n",
              "      <td>246.882957</td>\n",
              "      <td>241.716827</td>\n",
              "      <td>0.005798</td>\n",
              "      <td>236.384537</td>\n",
              "      <td>...</td>\n",
              "      <td>223.345093</td>\n",
              "      <td>255.490692</td>\n",
              "      <td>-0.020450</td>\n",
              "      <td>215.043365</td>\n",
              "      <td>258.114746</td>\n",
              "      <td>-0.024577</td>\n",
              "      <td>208.006393</td>\n",
              "      <td>259.608673</td>\n",
              "      <td>-0.026722</td>\n",
              "      <td>call</td>\n",
              "    </tr>\n",
              "    <tr>\n",
              "      <th>1</th>\n",
              "      <td>83.351778</td>\n",
              "      <td>346.059113</td>\n",
              "      <td>-2.345265e-07</td>\n",
              "      <td>81.925037</td>\n",
              "      <td>328.562347</td>\n",
              "      <td>-0.011102</td>\n",
              "      <td>90.080132</td>\n",
              "      <td>311.535248</td>\n",
              "      <td>-0.021096</td>\n",
              "      <td>95.641823</td>\n",
              "      <td>...</td>\n",
              "      <td>132.451618</td>\n",
              "      <td>341.794434</td>\n",
              "      <td>-0.038175</td>\n",
              "      <td>142.773582</td>\n",
              "      <td>342.829254</td>\n",
              "      <td>-0.037336</td>\n",
              "      <td>152.431698</td>\n",
              "      <td>343.015991</td>\n",
              "      <td>-0.036136</td>\n",
              "      <td>call</td>\n",
              "    </tr>\n",
              "    <tr>\n",
              "      <th>2</th>\n",
              "      <td>187.756977</td>\n",
              "      <td>260.235492</td>\n",
              "      <td>-2.417307e-07</td>\n",
              "      <td>195.460579</td>\n",
              "      <td>241.506035</td>\n",
              "      <td>-0.000184</td>\n",
              "      <td>207.259529</td>\n",
              "      <td>223.674339</td>\n",
              "      <td>-0.009687</td>\n",
              "      <td>215.413628</td>\n",
              "      <td>...</td>\n",
              "      <td>250.301010</td>\n",
              "      <td>268.602938</td>\n",
              "      <td>-0.044068</td>\n",
              "      <td>262.425133</td>\n",
              "      <td>271.276638</td>\n",
              "      <td>-0.040469</td>\n",
              "      <td>272.989952</td>\n",
              "      <td>272.272231</td>\n",
              "      <td>-0.038301</td>\n",
              "      <td>call</td>\n",
              "    </tr>\n",
              "    <tr>\n",
              "      <th>3</th>\n",
              "      <td>114.976696</td>\n",
              "      <td>331.594238</td>\n",
              "      <td>-1.233261e-07</td>\n",
              "      <td>114.503494</td>\n",
              "      <td>320.549957</td>\n",
              "      <td>-0.002824</td>\n",
              "      <td>116.636627</td>\n",
              "      <td>310.080994</td>\n",
              "      <td>-0.008911</td>\n",
              "      <td>117.685066</td>\n",
              "      <td>...</td>\n",
              "      <td>145.195450</td>\n",
              "      <td>329.357544</td>\n",
              "      <td>-0.027622</td>\n",
              "      <td>151.053200</td>\n",
              "      <td>329.712341</td>\n",
              "      <td>-0.027863</td>\n",
              "      <td>155.990364</td>\n",
              "      <td>329.548828</td>\n",
              "      <td>-0.027723</td>\n",
              "      <td>call</td>\n",
              "    </tr>\n",
              "    <tr>\n",
              "      <th>4</th>\n",
              "      <td>188.795288</td>\n",
              "      <td>141.727867</td>\n",
              "      <td>-1.622995e-07</td>\n",
              "      <td>188.520905</td>\n",
              "      <td>127.947464</td>\n",
              "      <td>-0.002884</td>\n",
              "      <td>191.982880</td>\n",
              "      <td>111.010563</td>\n",
              "      <td>-0.008115</td>\n",
              "      <td>192.552521</td>\n",
              "      <td>...</td>\n",
              "      <td>226.696396</td>\n",
              "      <td>132.263248</td>\n",
              "      <td>-0.025113</td>\n",
              "      <td>234.831741</td>\n",
              "      <td>130.684147</td>\n",
              "      <td>-0.024087</td>\n",
              "      <td>241.587769</td>\n",
              "      <td>128.477188</td>\n",
              "      <td>-0.023486</td>\n",
              "      <td>call</td>\n",
              "    </tr>\n",
              "  </tbody>\n",
              "</table>\n",
              "<p>5 rows × 64 columns</p>\n",
              "</div>\n",
              "    <div class=\"colab-df-buttons\">\n",
              "\n",
              "  <div class=\"colab-df-container\">\n",
              "    <button class=\"colab-df-convert\" onclick=\"convertToInteractive('df-e233ed35-9ecc-4c48-97e1-e0a337635bc2')\"\n",
              "            title=\"Convert this dataframe to an interactive table.\"\n",
              "            style=\"display:none;\">\n",
              "\n",
              "  <svg xmlns=\"http://www.w3.org/2000/svg\" height=\"24px\" viewBox=\"0 -960 960 960\">\n",
              "    <path d=\"M120-120v-720h720v720H120Zm60-500h600v-160H180v160Zm220 220h160v-160H400v160Zm0 220h160v-160H400v160ZM180-400h160v-160H180v160Zm440 0h160v-160H620v160ZM180-180h160v-160H180v160Zm440 0h160v-160H620v160Z\"/>\n",
              "  </svg>\n",
              "    </button>\n",
              "\n",
              "  <style>\n",
              "    .colab-df-container {\n",
              "      display:flex;\n",
              "      gap: 12px;\n",
              "    }\n",
              "\n",
              "    .colab-df-convert {\n",
              "      background-color: #E8F0FE;\n",
              "      border: none;\n",
              "      border-radius: 50%;\n",
              "      cursor: pointer;\n",
              "      display: none;\n",
              "      fill: #1967D2;\n",
              "      height: 32px;\n",
              "      padding: 0 0 0 0;\n",
              "      width: 32px;\n",
              "    }\n",
              "\n",
              "    .colab-df-convert:hover {\n",
              "      background-color: #E2EBFA;\n",
              "      box-shadow: 0px 1px 2px rgba(60, 64, 67, 0.3), 0px 1px 3px 1px rgba(60, 64, 67, 0.15);\n",
              "      fill: #174EA6;\n",
              "    }\n",
              "\n",
              "    .colab-df-buttons div {\n",
              "      margin-bottom: 4px;\n",
              "    }\n",
              "\n",
              "    [theme=dark] .colab-df-convert {\n",
              "      background-color: #3B4455;\n",
              "      fill: #D2E3FC;\n",
              "    }\n",
              "\n",
              "    [theme=dark] .colab-df-convert:hover {\n",
              "      background-color: #434B5C;\n",
              "      box-shadow: 0px 1px 3px 1px rgba(0, 0, 0, 0.15);\n",
              "      filter: drop-shadow(0px 1px 2px rgba(0, 0, 0, 0.3));\n",
              "      fill: #FFFFFF;\n",
              "    }\n",
              "  </style>\n",
              "\n",
              "    <script>\n",
              "      const buttonEl =\n",
              "        document.querySelector('#df-e233ed35-9ecc-4c48-97e1-e0a337635bc2 button.colab-df-convert');\n",
              "      buttonEl.style.display =\n",
              "        google.colab.kernel.accessAllowed ? 'block' : 'none';\n",
              "\n",
              "      async function convertToInteractive(key) {\n",
              "        const element = document.querySelector('#df-e233ed35-9ecc-4c48-97e1-e0a337635bc2');\n",
              "        const dataTable =\n",
              "          await google.colab.kernel.invokeFunction('convertToInteractive',\n",
              "                                                    [key], {});\n",
              "        if (!dataTable) return;\n",
              "\n",
              "        const docLinkHtml = 'Like what you see? Visit the ' +\n",
              "          '<a target=\"_blank\" href=https://colab.research.google.com/notebooks/data_table.ipynb>data table notebook</a>'\n",
              "          + ' to learn more about interactive tables.';\n",
              "        element.innerHTML = '';\n",
              "        dataTable['output_type'] = 'display_data';\n",
              "        await google.colab.output.renderOutput(dataTable, element);\n",
              "        const docLink = document.createElement('div');\n",
              "        docLink.innerHTML = docLinkHtml;\n",
              "        element.appendChild(docLink);\n",
              "      }\n",
              "    </script>\n",
              "  </div>\n",
              "\n",
              "\n",
              "<div id=\"df-e3101aa4-f5a3-443f-a530-7a439889fbfa\">\n",
              "  <button class=\"colab-df-quickchart\" onclick=\"quickchart('df-e3101aa4-f5a3-443f-a530-7a439889fbfa')\"\n",
              "            title=\"Suggest charts\"\n",
              "            style=\"display:none;\">\n",
              "\n",
              "<svg xmlns=\"http://www.w3.org/2000/svg\" height=\"24px\"viewBox=\"0 0 24 24\"\n",
              "     width=\"24px\">\n",
              "    <g>\n",
              "        <path d=\"M19 3H5c-1.1 0-2 .9-2 2v14c0 1.1.9 2 2 2h14c1.1 0 2-.9 2-2V5c0-1.1-.9-2-2-2zM9 17H7v-7h2v7zm4 0h-2V7h2v10zm4 0h-2v-4h2v4z\"/>\n",
              "    </g>\n",
              "</svg>\n",
              "  </button>\n",
              "\n",
              "<style>\n",
              "  .colab-df-quickchart {\n",
              "      --bg-color: #E8F0FE;\n",
              "      --fill-color: #1967D2;\n",
              "      --hover-bg-color: #E2EBFA;\n",
              "      --hover-fill-color: #174EA6;\n",
              "      --disabled-fill-color: #AAA;\n",
              "      --disabled-bg-color: #DDD;\n",
              "  }\n",
              "\n",
              "  [theme=dark] .colab-df-quickchart {\n",
              "      --bg-color: #3B4455;\n",
              "      --fill-color: #D2E3FC;\n",
              "      --hover-bg-color: #434B5C;\n",
              "      --hover-fill-color: #FFFFFF;\n",
              "      --disabled-bg-color: #3B4455;\n",
              "      --disabled-fill-color: #666;\n",
              "  }\n",
              "\n",
              "  .colab-df-quickchart {\n",
              "    background-color: var(--bg-color);\n",
              "    border: none;\n",
              "    border-radius: 50%;\n",
              "    cursor: pointer;\n",
              "    display: none;\n",
              "    fill: var(--fill-color);\n",
              "    height: 32px;\n",
              "    padding: 0;\n",
              "    width: 32px;\n",
              "  }\n",
              "\n",
              "  .colab-df-quickchart:hover {\n",
              "    background-color: var(--hover-bg-color);\n",
              "    box-shadow: 0 1px 2px rgba(60, 64, 67, 0.3), 0 1px 3px 1px rgba(60, 64, 67, 0.15);\n",
              "    fill: var(--button-hover-fill-color);\n",
              "  }\n",
              "\n",
              "  .colab-df-quickchart-complete:disabled,\n",
              "  .colab-df-quickchart-complete:disabled:hover {\n",
              "    background-color: var(--disabled-bg-color);\n",
              "    fill: var(--disabled-fill-color);\n",
              "    box-shadow: none;\n",
              "  }\n",
              "\n",
              "  .colab-df-spinner {\n",
              "    border: 2px solid var(--fill-color);\n",
              "    border-color: transparent;\n",
              "    border-bottom-color: var(--fill-color);\n",
              "    animation:\n",
              "      spin 1s steps(1) infinite;\n",
              "  }\n",
              "\n",
              "  @keyframes spin {\n",
              "    0% {\n",
              "      border-color: transparent;\n",
              "      border-bottom-color: var(--fill-color);\n",
              "      border-left-color: var(--fill-color);\n",
              "    }\n",
              "    20% {\n",
              "      border-color: transparent;\n",
              "      border-left-color: var(--fill-color);\n",
              "      border-top-color: var(--fill-color);\n",
              "    }\n",
              "    30% {\n",
              "      border-color: transparent;\n",
              "      border-left-color: var(--fill-color);\n",
              "      border-top-color: var(--fill-color);\n",
              "      border-right-color: var(--fill-color);\n",
              "    }\n",
              "    40% {\n",
              "      border-color: transparent;\n",
              "      border-right-color: var(--fill-color);\n",
              "      border-top-color: var(--fill-color);\n",
              "    }\n",
              "    60% {\n",
              "      border-color: transparent;\n",
              "      border-right-color: var(--fill-color);\n",
              "    }\n",
              "    80% {\n",
              "      border-color: transparent;\n",
              "      border-right-color: var(--fill-color);\n",
              "      border-bottom-color: var(--fill-color);\n",
              "    }\n",
              "    90% {\n",
              "      border-color: transparent;\n",
              "      border-bottom-color: var(--fill-color);\n",
              "    }\n",
              "  }\n",
              "</style>\n",
              "\n",
              "  <script>\n",
              "    async function quickchart(key) {\n",
              "      const quickchartButtonEl =\n",
              "        document.querySelector('#' + key + ' button');\n",
              "      quickchartButtonEl.disabled = true;  // To prevent multiple clicks.\n",
              "      quickchartButtonEl.classList.add('colab-df-spinner');\n",
              "      try {\n",
              "        const charts = await google.colab.kernel.invokeFunction(\n",
              "            'suggestCharts', [key], {});\n",
              "      } catch (error) {\n",
              "        console.error('Error during call to suggestCharts:', error);\n",
              "      }\n",
              "      quickchartButtonEl.classList.remove('colab-df-spinner');\n",
              "      quickchartButtonEl.classList.add('colab-df-quickchart-complete');\n",
              "    }\n",
              "    (() => {\n",
              "      let quickchartButtonEl =\n",
              "        document.querySelector('#df-e3101aa4-f5a3-443f-a530-7a439889fbfa button');\n",
              "      quickchartButtonEl.style.display =\n",
              "        google.colab.kernel.accessAllowed ? 'block' : 'none';\n",
              "    })();\n",
              "  </script>\n",
              "</div>\n",
              "\n",
              "    </div>\n",
              "  </div>\n"
            ],
            "application/vnd.google.colaboratory.intrinsic+json": {
              "type": "dataframe",
              "variable_name": "data"
            }
          },
          "metadata": {},
          "execution_count": 46
        }
      ],
      "source": [
        "data.head(5)"
      ]
    },
    {
      "cell_type": "code",
      "execution_count": 47,
      "metadata": {
        "id": "GM5_XCIOlGvz"
      },
      "outputs": [],
      "source": [
        "# Preprocess Data\n",
        "def preprocess_data(df):\n",
        "\n",
        "    X = df.iloc[:, 0:-1].values\n",
        "    y = df.iloc[:, -1].values\n",
        "\n",
        "    # Normalize (x, y) using wrist as origin and scaling by mid-finger tip\n",
        "    wrist_index = 0\n",
        "    mid_finger_tip_index = 12\n",
        "\n",
        "    for i in range(0, X.shape[1], 3):\n",
        "        X[:, i] -= X[:, wrist_index]\n",
        "        X[:, i+1] -= X[:, wrist_index+1]\n",
        "        scale = np.linalg.norm(X[:, mid_finger_tip_index:mid_finger_tip_index+2], axis=1, keepdims=True)\n",
        "        X[:, i:i+2] /= (scale + 1e-6)\n",
        "\n",
        "    return X, y"
      ]
    },
    {
      "cell_type": "code",
      "execution_count": 48,
      "metadata": {
        "id": "-QIK_NxjlLe5"
      },
      "outputs": [],
      "source": [
        "X, y = preprocess_data(data)"
      ]
    },
    {
      "cell_type": "code",
      "execution_count": 49,
      "metadata": {
        "colab": {
          "base_uri": "https://localhost:8080/"
        },
        "id": "xescUbejlLWv",
        "outputId": "c6cea476-04c2-4ffb-b7a6-6d7cf026973c"
      },
      "outputs": [
        {
          "output_type": "stream",
          "name": "stdout",
          "text": [
            "(25675, 63) (25675,)\n"
          ]
        }
      ],
      "source": [
        "print(X.shape, y.shape)"
      ]
    },
    {
      "cell_type": "code",
      "execution_count": 50,
      "metadata": {
        "id": "41xtCoxblLUR"
      },
      "outputs": [],
      "source": [
        "# Visualize Data Distribution\n",
        "def visualize_data_distribution(y):\n",
        "    plt.figure(figsize=(10, 5))\n",
        "    sns.countplot(x=y)\n",
        "    plt.title(\"Distribution of Gesture Classes\")\n",
        "    plt.xlabel(\"Gesture Class\")\n",
        "    plt.ylabel(\"Count\")\n",
        "    plt.xticks(rotation=45)\n",
        "    plt.show()"
      ]
    },
    {
      "cell_type": "code",
      "execution_count": 51,
      "metadata": {
        "colab": {
          "base_uri": "https://localhost:8080/",
          "height": 564
        },
        "id": "aTSnw7l6tXmc",
        "outputId": "dba44a8a-0c06-4a8a-aad2-ab7f27db1169"
      },
      "outputs": [
        {
          "output_type": "display_data",
          "data": {
            "text/plain": [
              "<Figure size 1000x500 with 1 Axes>"
            ],
            "image/png": "[encoded data removed]"
          },
          "metadata": {}
        }
      ],
      "source": [
        "visualize_data_distribution(y)"
      ]
    },
    {
      "cell_type": "code",
      "execution_count": 52,
      "metadata": {
        "id": "FgeRpqOolLSG"
      },
      "outputs": [],
      "source": [
        "# Split Data\n",
        "def split_data(X, y):\n",
        "    X_train, X_temp, y_train, y_temp = train_test_split(X, y, test_size=0.2, random_state=42, stratify=y)\n",
        "    X_val, X_test, y_val, y_test = train_test_split(X_temp, y_temp, test_size=0.5, random_state=42, stratify=y_temp)\n",
        "\n",
        "    scaler = StandardScaler()\n",
        "    X_train = scaler.fit_transform(X_train)\n",
        "    X_val = scaler.transform(X_val)\n",
        "    X_test = scaler.transform(X_test)\n",
        "\n",
        "    return X_train, X_val, X_test, y_train, y_val, y_test, scaler"
      ]
    },
    {
      "cell_type": "code",
      "execution_count": 53,
      "metadata": {
        "id": "WGCmm63mtd9V"
      },
      "outputs": [],
      "source": [
        "X_train, X_val, X_test, y_train, y_val, y_test, scaler = split_data(X, y)"
      ]
    },
    {
      "cell_type": "code",
      "execution_count": 54,
      "metadata": {
        "id": "9wKJbbFTlLPs"
      },
      "outputs": [],
      "source": [
        "# Train Models\n",
        "def train_models(X_train, y_train, X_val, y_val):\n",
        "    models = {\n",
        "        \"Random Forest\": RandomForestClassifier(n_estimators=100, random_state=42),\n",
        "        \"SVM\": SVC(kernel='linear', probability=True),\n",
        "        \"KNN\": KNeighborsClassifier(n_neighbors=5)\n",
        "    }\n",
        "\n",
        "    trained_models = {}\n",
        "    for name, model in models.items():\n",
        "        model.fit(X_train, y_train)\n",
        "        val_accuracy = accuracy_score(y_val, model.predict(X_val))\n",
        "        print(f\"{name} Validation Accuracy: {val_accuracy:.4f}\")\n",
        "        trained_models[name] = model\n",
        "\n",
        "    return trained_models"
      ]
    },
    {
      "cell_type": "code",
      "execution_count": 55,
      "metadata": {
        "id": "QshA1zWRuUYk",
        "colab": {
          "base_uri": "https://localhost:8080/"
        },
        "outputId": "501278e4-fee1-4c9c-a832-a17e5c0a3af6"
      },
      "outputs": [
        {
          "output_type": "stream",
          "name": "stdout",
          "text": [
            "Random Forest Validation Accuracy: 0.8376\n",
            "SVM Validation Accuracy: 0.9147\n",
            "KNN Validation Accuracy: 0.7004\n"
          ]
        }
      ],
      "source": [
        "models = train_models(X_train, y_train, X_val, y_val)"
      ]
    },
    {
      "cell_type": "code",
      "execution_count": 56,
      "metadata": {
        "id": "wcVWxaselLNW"
      },
      "outputs": [],
      "source": [
        "# Evaluate Models\n",
        "def evaluate_models(models, X_test, y_test):\n",
        "    for name, model in models.items():\n",
        "        y_pred = model.predict(X_test)\n",
        "        accuracy = accuracy_score(y_test, y_pred)\n",
        "        precision = precision_score(y_test, y_pred, average='weighted', zero_division=1)\n",
        "        recall = recall_score(y_test, y_pred, average='weighted', zero_division=1)\n",
        "        f1 = f1_score(y_test, y_pred, average='weighted', zero_division=1)\n",
        "\n",
        "        print(f\"{name} Performance on Test Set:\")\n",
        "        print(f\"Accuracy: {accuracy:.4f}\")\n",
        "        print(f\"Precision: {precision:.4f}\")\n",
        "        print(f\"Recall: {recall:.4f}\")\n",
        "        print(f\"F1-score: {f1:.4f}\")\n",
        "        print(\"\\n\")"
      ]
    },
    {
      "cell_type": "code",
      "execution_count": 57,
      "metadata": {
        "id": "DU97sdcIuVPn",
        "colab": {
          "base_uri": "https://localhost:8080/"
        },
        "outputId": "1cde6d3a-ac1d-45ac-e90f-9292661a015d"
      },
      "outputs": [
        {
          "output_type": "stream",
          "name": "stdout",
          "text": [
            "Random Forest Performance on Test Set:\n",
            "Accuracy: 0.8209\n",
            "Precision: 0.8211\n",
            "Recall: 0.8209\n",
            "F1-score: 0.8205\n",
            "\n",
            "\n",
            "SVM Performance on Test Set:\n",
            "Accuracy: 0.9128\n",
            "Precision: 0.9138\n",
            "Recall: 0.9128\n",
            "F1-score: 0.9125\n",
            "\n",
            "\n",
            "KNN Performance on Test Set:\n",
            "Accuracy: 0.6939\n",
            "Precision: 0.7016\n",
            "Recall: 0.6939\n",
            "F1-score: 0.6931\n",
            "\n",
            "\n"
          ]
        }
      ],
      "source": [
        "evaluate_models(models, X_test, y_test)"
      ]
    },
    {
      "cell_type": "code",
      "execution_count": 58,
      "metadata": {
        "id": "OzR-ks3ylLK_"
      },
      "outputs": [],
      "source": [
        "# Plot Hand Landmarks\n",
        "# def plot_hand_landmarks(sample):\n",
        "#     x_vals = sample[::3]\n",
        "#     y_vals = sample[1::3]\n",
        "#     plt.scatter(x_vals, -y_vals, marker='o', c='red')\n",
        "#     plt.show()"
      ]
    },
    {
      "cell_type": "code",
      "execution_count": 59,
      "metadata": {
        "id": "bxQ7_rGYn9jR"
      },
      "outputs": [],
      "source": [
        "def process_video(video_path, model, scaler):\n",
        "    mp_hands = mp.solutions.hands\n",
        "    hands = mp_hands.Hands()\n",
        "    cap = cv2.VideoCapture(video_path)\n",
        "    fourcc = cv2.VideoWriter_fourcc(*'mp4v')\n",
        "    # Replace with Output actual path\n",
        "    out = cv2.VideoWriter('/content/drive/MyDrive/Colab Notebooks/output_video.mp4', fourcc, 20.0, (int(cap.get(3)), int(cap.get(4))))\n",
        "\n",
        "    while cap.isOpened():\n",
        "        ret, frame = cap.read()\n",
        "        if not ret:\n",
        "            break\n",
        "\n",
        "        image_rgb = cv2.cvtColor(frame, cv2.COLOR_BGR2RGB)\n",
        "        results = hands.process(image_rgb)\n",
        "\n",
        "        if results.multi_hand_landmarks:\n",
        "            for hand_landmarks in results.multi_hand_landmarks:\n",
        "                mp_drawing = mp.solutions.drawing_utils\n",
        "                mp_drawing.draw_landmarks(\n",
        "                    frame, hand_landmarks, mp_hands.HAND_CONNECTIONS\n",
        "                )\n",
        "\n",
        "                # Draw landmark labels\n",
        "                h, w, _ = frame.shape\n",
        "                for idx, lm in enumerate(hand_landmarks.landmark):\n",
        "                    cx, cy = int(lm.x * w), int(lm.y * h)\n",
        "                    cv2.putText(frame, str(idx), (cx, cy), cv2.FONT_HERSHEY_SIMPLEX, 0.4, (255, 0, 0), 1)\n",
        "\n",
        "                # Extract features and predict gesture\n",
        "                landmarks = np.array([[lm.x, lm.y, lm.z] for lm in hand_landmarks.landmark]).flatten().reshape(1, -1)\n",
        "                landmarks = scaler.transform(landmarks)\n",
        "                prediction = model.predict(landmarks)\n",
        "\n",
        "                # Display predicted gesture\n",
        "                cv2.putText(frame, f\"Gesture: {prediction[0]}\", (50, 50), cv2.FONT_HERSHEY_SIMPLEX, 1, (0, 255, 0), 2)\n",
        "\n",
        "        out.write(frame)  # Save frame to video file\n",
        "\n",
        "    cap.release()\n",
        "    out.release()\n",
        "    print(\"Video saved as output_video.mp4\")\n"
      ]
    },
    {
      "cell_type": "code",
      "execution_count": 60,
      "metadata": {
        "id": "TpqVWbGTn1ST"
      },
      "outputs": [],
      "source": [
        "video_path = \"/content/drive/MyDrive/Colab Notebooks/WIN_20250308_10_50_33_Pro.mp4\"  # Replace with Input actual path"
      ]
    },
    {
      "cell_type": "code",
      "execution_count": 61,
      "metadata": {
        "colab": {
          "base_uri": "https://localhost:8080/"
        },
        "id": "QcAMz0sTlLB9",
        "outputId": "e7c9a6cd-2888-41b7-97dd-7cbd9deb026a"
      },
      "outputs": [
        {
          "output_type": "stream",
          "name": "stdout",
          "text": [
            "Best performing model: SVM\n",
            "Video saved as output_video.mp4\n"
          ]
        }
      ],
      "source": [
        "# Select the best-performing model\n",
        "best_model = max(models, key=lambda name: accuracy_score(y_test, models[name].predict(X_test)))\n",
        "print(f\"Best performing model: {best_model}\")\n",
        "\n",
        "process_video(video_path, models[best_model], scaler)"
      ]
    },
    {
      "cell_type": "code",
      "execution_count": 62,
      "metadata": {
        "id": "QqcsekL4nq-1"
      },
      "outputs": [],
      "source": [
        "# from IPython.display import display, HTML\n",
        "\n",
        "# def show_video():\n",
        "#     video_path = '/content/drive/MyDrive/Colab Notebooks/output_video.mp4'\n",
        "#     display(HTML(f'<video width=\"640\" height=\"480\" controls><source src=\"{video_path}\" type=\"video/mp4\"></video>'))\n",
        "\n",
        "# show_video()\n"
      ]
    },
    {
      "cell_type": "code",
      "execution_count": 62,
      "metadata": {
        "id": "XEJeOg8enq6R"
      },
      "outputs": [],
      "source": []
    },
    {
      "cell_type": "code",
      "execution_count": 62,
      "metadata": {
        "id": "PpkQqli3nq32"
      },
      "outputs": [],
      "source": []
    }
  ],
  "metadata": {
    "colab": {
      "provenance": [],
      "mount_file_id": "1h69QuH6wXE4OptU3XMZOP7jrXxTJlEQo",
      "authorship_tag": "ABX9TyPsTecftuw7KNaEpOWgBaG+",
      "include_colab_link": true
    },
    "kernelspec": {
      "display_name": "Python 3",
      "name": "python3"
    },
    "language_info": {
      "name": "python"
    }
  },
  "nbformat": 4,
  "nbformat_minor": 0
}